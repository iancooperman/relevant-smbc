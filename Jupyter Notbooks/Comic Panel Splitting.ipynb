{
 "cells": [
  {
   "cell_type": "code",
   "execution_count": 2,
   "id": "21ed27f8-ade2-423e-b542-2164a78e82a5",
   "metadata": {},
   "outputs": [
    {
     "name": "stdout",
     "output_type": "stream",
     "text": [
      "Requirement already satisfied: opencv-python in c:\\users\\ianpl\\appdata\\local\\programs\\python\\python313\\lib\\site-packages (4.12.0.88)\n",
      "Requirement already satisfied: numpy<2.3.0,>=2 in c:\\users\\ianpl\\appdata\\local\\programs\\python\\python313\\lib\\site-packages (from opencv-python) (2.2.6)\n",
      "Note: you may need to restart the kernel to use updated packages.\n",
      "Requirement already satisfied: matplotlib in c:\\users\\ianpl\\appdata\\local\\programs\\python\\python313\\lib\\site-packages (3.10.7)\n",
      "Requirement already satisfied: contourpy>=1.0.1 in c:\\users\\ianpl\\appdata\\local\\programs\\python\\python313\\lib\\site-packages (from matplotlib) (1.3.3)\n",
      "Requirement already satisfied: cycler>=0.10 in c:\\users\\ianpl\\appdata\\local\\programs\\python\\python313\\lib\\site-packages (from matplotlib) (0.12.1)\n",
      "Requirement already satisfied: fonttools>=4.22.0 in c:\\users\\ianpl\\appdata\\local\\programs\\python\\python313\\lib\\site-packages (from matplotlib) (4.60.1)\n",
      "Requirement already satisfied: kiwisolver>=1.3.1 in c:\\users\\ianpl\\appdata\\local\\programs\\python\\python313\\lib\\site-packages (from matplotlib) (1.4.9)\n",
      "Requirement already satisfied: numpy>=1.23 in c:\\users\\ianpl\\appdata\\local\\programs\\python\\python313\\lib\\site-packages (from matplotlib) (2.2.6)\n",
      "Requirement already satisfied: packaging>=20.0 in c:\\users\\ianpl\\appdata\\local\\programs\\python\\python313\\lib\\site-packages (from matplotlib) (25.0)\n",
      "Requirement already satisfied: pillow>=8 in c:\\users\\ianpl\\appdata\\local\\programs\\python\\python313\\lib\\site-packages (from matplotlib) (12.0.0)\n",
      "Requirement already satisfied: pyparsing>=3 in c:\\users\\ianpl\\appdata\\local\\programs\\python\\python313\\lib\\site-packages (from matplotlib) (3.2.5)\n",
      "Requirement already satisfied: python-dateutil>=2.7 in c:\\users\\ianpl\\appdata\\local\\programs\\python\\python313\\lib\\site-packages (from matplotlib) (2.9.0.post0)\n",
      "Requirement already satisfied: six>=1.5 in c:\\users\\ianpl\\appdata\\local\\programs\\python\\python313\\lib\\site-packages (from python-dateutil>=2.7->matplotlib) (1.17.0)\n",
      "Note: you may need to restart the kernel to use updated packages.\n",
      "Requirement already satisfied: python-dotenv in c:\\users\\ianpl\\appdata\\local\\programs\\python\\python313\\lib\\site-packages (1.1.1)\n",
      "Note: you may need to restart the kernel to use updated packages.\n",
      "Collecting openai\n",
      "  Downloading openai-2.5.0-py3-none-any.whl.metadata (29 kB)\n",
      "Requirement already satisfied: anyio<5,>=3.5.0 in c:\\users\\ianpl\\appdata\\local\\programs\\python\\python313\\lib\\site-packages (from openai) (4.11.0)\n",
      "Collecting distro<2,>=1.7.0 (from openai)\n",
      "  Downloading distro-1.9.0-py3-none-any.whl.metadata (6.8 kB)\n",
      "Requirement already satisfied: httpx<1,>=0.23.0 in c:\\users\\ianpl\\appdata\\local\\programs\\python\\python313\\lib\\site-packages (from openai) (0.28.1)\n",
      "Collecting jiter<1,>=0.10.0 (from openai)\n",
      "  Downloading jiter-0.11.1-cp313-cp313-win_amd64.whl.metadata (5.3 kB)\n",
      "Collecting pydantic<3,>=1.9.0 (from openai)\n",
      "  Downloading pydantic-2.12.3-py3-none-any.whl.metadata (87 kB)\n",
      "Requirement already satisfied: sniffio in c:\\users\\ianpl\\appdata\\local\\programs\\python\\python313\\lib\\site-packages (from openai) (1.3.1)\n",
      "Collecting tqdm>4 (from openai)\n",
      "  Using cached tqdm-4.67.1-py3-none-any.whl.metadata (57 kB)\n",
      "Requirement already satisfied: typing-extensions<5,>=4.11 in c:\\users\\ianpl\\appdata\\local\\programs\\python\\python313\\lib\\site-packages (from openai) (4.15.0)\n",
      "Requirement already satisfied: idna>=2.8 in c:\\users\\ianpl\\appdata\\local\\programs\\python\\python313\\lib\\site-packages (from anyio<5,>=3.5.0->openai) (3.10)\n",
      "Requirement already satisfied: certifi in c:\\users\\ianpl\\appdata\\local\\programs\\python\\python313\\lib\\site-packages (from httpx<1,>=0.23.0->openai) (2025.8.3)\n",
      "Requirement already satisfied: httpcore==1.* in c:\\users\\ianpl\\appdata\\local\\programs\\python\\python313\\lib\\site-packages (from httpx<1,>=0.23.0->openai) (1.0.9)\n",
      "Requirement already satisfied: h11>=0.16 in c:\\users\\ianpl\\appdata\\local\\programs\\python\\python313\\lib\\site-packages (from httpcore==1.*->httpx<1,>=0.23.0->openai) (0.16.0)\n",
      "Collecting annotated-types>=0.6.0 (from pydantic<3,>=1.9.0->openai)\n",
      "  Downloading annotated_types-0.7.0-py3-none-any.whl.metadata (15 kB)\n",
      "Collecting pydantic-core==2.41.4 (from pydantic<3,>=1.9.0->openai)\n",
      "  Downloading pydantic_core-2.41.4-cp313-cp313-win_amd64.whl.metadata (7.4 kB)\n",
      "Collecting typing-inspection>=0.4.2 (from pydantic<3,>=1.9.0->openai)\n",
      "  Downloading typing_inspection-0.4.2-py3-none-any.whl.metadata (2.6 kB)\n",
      "Requirement already satisfied: colorama in c:\\users\\ianpl\\appdata\\local\\programs\\python\\python313\\lib\\site-packages (from tqdm>4->openai) (0.4.6)\n",
      "Downloading openai-2.5.0-py3-none-any.whl (999 kB)\n",
      "   ---------------------------------------- 0.0/999.9 kB ? eta -:--:--\n",
      "   ---------------------------------------- 999.9/999.9 kB 23.4 MB/s  0:00:00\n",
      "Downloading distro-1.9.0-py3-none-any.whl (20 kB)\n",
      "Downloading jiter-0.11.1-cp313-cp313-win_amd64.whl (203 kB)\n",
      "Downloading pydantic-2.12.3-py3-none-any.whl (462 kB)\n",
      "Downloading pydantic_core-2.41.4-cp313-cp313-win_amd64.whl (2.0 MB)\n",
      "   ---------------------------------------- 0.0/2.0 MB ? eta -:--:--\n",
      "   ---------------------------------------- 2.0/2.0 MB 37.5 MB/s  0:00:00\n",
      "Downloading annotated_types-0.7.0-py3-none-any.whl (13 kB)\n",
      "Using cached tqdm-4.67.1-py3-none-any.whl (78 kB)\n",
      "Downloading typing_inspection-0.4.2-py3-none-any.whl (14 kB)\n",
      "Installing collected packages: typing-inspection, tqdm, pydantic-core, jiter, distro, annotated-types, pydantic, openai\n",
      "\n",
      "   ------------------------------ --------- 6/8 [pydantic]\n",
      "   ------------------------------ --------- 6/8 [pydantic]\n",
      "   ----------------------------------- ---- 7/8 [openai]\n",
      "   ----------------------------------- ---- 7/8 [openai]\n",
      "   ----------------------------------- ---- 7/8 [openai]\n",
      "   ----------------------------------- ---- 7/8 [openai]\n",
      "   ----------------------------------- ---- 7/8 [openai]\n",
      "   ----------------------------------- ---- 7/8 [openai]\n",
      "   ----------------------------------- ---- 7/8 [openai]\n",
      "   ----------------------------------- ---- 7/8 [openai]\n",
      "   ---------------------------------------- 8/8 [openai]\n",
      "\n",
      "Successfully installed annotated-types-0.7.0 distro-1.9.0 jiter-0.11.1 openai-2.5.0 pydantic-2.12.3 pydantic-core-2.41.4 tqdm-4.67.1 typing-inspection-0.4.2\n",
      "Note: you may need to restart the kernel to use updated packages.\n"
     ]
    }
   ],
   "source": [
    "%pip install opencv-python\n",
    "%pip install matplotlib\n",
    "%pip install python-dotenv\n",
    "%pip install --upgrade openai"
   ]
  },
  {
   "cell_type": "code",
   "execution_count": 8,
   "id": "9b1d69f4-570a-4506-899c-29264c03db66",
   "metadata": {},
   "outputs": [
    {
     "data": {
      "text/plain": [
       "True"
      ]
     },
     "execution_count": 8,
     "metadata": {},
     "output_type": "execute_result"
    }
   ],
   "source": [
    "# imports\n",
    "import cv2\n",
    "from pathlib import Path\n",
    "import matplotlib.pyplot as plt\n",
    "import os\n",
    "from dotenv import load_dotenv\n",
    "import openai\n",
    "\n",
    "load_dotenv()"
   ]
  },
  {
   "cell_type": "code",
   "execution_count": 4,
   "id": "953c74cb-345c-46e0-b57d-eb32577ebc5b",
   "metadata": {},
   "outputs": [],
   "source": [
    "def split_comic_panels(comic_path, output_path):\n",
    "    image = cv2.imread(Path(comic_path))\n",
    "    gray = cv2.cvtColor(image, cv2.COLOR_BGR2GRAY)\n",
    "    \n",
    "    _, thresh = cv2.threshold(gray, 240, 255, cv2.THRESH_BINARY_INV)\n",
    "    \n",
    "    contours, _ = cv2.findContours(thresh, cv2.RETR_EXTERNAL, cv2.CHAIN_APPROX_SIMPLE)\n",
    "    \n",
    "    bounding_rects = []\n",
    "    panels = []\n",
    "    for contour in contours:\n",
    "        if cv2.contourArea(contour) > 1000:\n",
    "            x, y, w, h = cv2.boundingRect(contour)\n",
    "            bounding_rects.append((x, y, w, h))\n",
    "    \n",
    "    bounding_rects.sort(key=lambda x: x[0]//10)\n",
    "    bounding_rects.sort(key=lambda x: x[1]//10)\n",
    "    \n",
    "    for (x, y, w, h) in bounding_rects:\n",
    "        panel = image[y:y+h, x:x+w]\n",
    "        panels.append(panel)\n",
    "        cv2.imwrite(Path(f\"{output_path}/{len(panels)-1}.png\"), panel)\n",
    "\n",
    "\n",
    "split_comic_panels(\"smbc-beautiful-4.png\", \"./temp-comic-panels/\")"
   ]
  },
  {
   "cell_type": "code",
   "execution_count": 44,
   "id": "1f2f3b1d-9bba-4c14-bb8c-f98b97342fb2",
   "metadata": {
    "editable": true,
    "slideshow": {
     "slide_type": ""
    },
    "tags": []
   },
   "outputs": [
    {
     "name": "stdout",
     "output_type": "stream",
     "text": [
      "### Panel 1\n",
      "Red-haired woman: I think women like sex as much as men.\n",
      "### Panel 2\n",
      "Brown-haired man: Hm.\n",
      "### Panel 3\n",
      "Brown-haired man: How would you react if I stopped contributing to housework, childcare, and bills for six months, and after stewing the entire time, you decided to finally confront me, at which point I licked my lips, looked you in the eyes and said \"Sounds like I need a spanking\" because I CAN TELL YOU MY REACTION WOULD REGRETTABLY BE VERY POSITIVE.\n",
      "### Panel 4\n",
      "Red-haired woman: Well, if we stipulate that self-respect needs to not be disastrously annihila-\n",
      "### Panel 5\n",
      "*silhouetted*\n",
      "Brown-haired man: Don't you narrow my horizons!\n"
     ]
    }
   ],
   "source": [
    "client = openai.OpenAI()\n",
    "# Function to create a file with the Files API\n",
    "def create_file(file_path):\n",
    "  with open(file_path, \"rb\") as file_content:\n",
    "    result = client.files.create(\n",
    "        file=file_content,\n",
    "        purpose=\"vision\",\n",
    "    )\n",
    "    return result.id\n",
    "\n",
    "# Getting the file ID\n",
    "file_id = create_file(Path(\"./smbc-much.png\"))\n",
    "\n",
    "\n",
    "prompt =  \"\"\"\n",
    "Please transcribe this comic in the same form as the following example transcription:\n",
    "### Panel 1\n",
    "Red-haired woman: No! No more saying irregardless to mean regardless! You're double-negating with the irr and the less.\n",
    "### Panel 2\n",
    "Grey-haired woman: You misheard. I said irrirregardless. Double the irr. So it's back to meaning regardless.\n",
    "### Panel 3\n",
    "Grey-haired woman: As long as I employ an even number of irrs, my word remains lexically valid.\n",
    "### Panel 4\n",
    "Red-haired woman: But...why?\n",
    "Grey-haired woman: I use it as an alarm noise when people are too prescriptivist about language.\n",
    "### Panel 5\n",
    "*silhouetted*\n",
    "Red-haired woman: That's still not proper-\n",
    "Grey-haired woman: Irrirrirrirrirr\n",
    "\"\"\"\n",
    "\n",
    "response = client.responses.create(\n",
    "    model=\"gpt-5-mini\",\n",
    "    input=[{\n",
    "        \"role\": \"user\",\n",
    "        \"content\": [\n",
    "            {\"type\": \"input_text\", \"text\": prompt},\n",
    "            {\n",
    "                \"type\": \"input_image\",\n",
    "                \"file_id\": file_id,\n",
    "            },\n",
    "        ],\n",
    "    }],\n",
    ")\n",
    "\n",
    "\n",
    "print(response.output_text)\n"
   ]
  },
  {
   "cell_type": "code",
   "execution_count": null,
   "id": "bb1c8b2a-a655-4082-988b-31ac4317e2f4",
   "metadata": {},
   "outputs": [],
   "source": []
  }
 ],
 "metadata": {
  "kernelspec": {
   "display_name": "Python 3 (ipykernel)",
   "language": "python",
   "name": "python3"
  },
  "language_info": {
   "codemirror_mode": {
    "name": "ipython",
    "version": 3
   },
   "file_extension": ".py",
   "mimetype": "text/x-python",
   "name": "python",
   "nbconvert_exporter": "python",
   "pygments_lexer": "ipython3",
   "version": "3.13.7"
  }
 },
 "nbformat": 4,
 "nbformat_minor": 5
}
