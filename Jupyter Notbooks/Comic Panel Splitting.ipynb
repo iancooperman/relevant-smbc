{
 "cells": [
  {
   "cell_type": "code",
   "execution_count": 4,
   "id": "21ed27f8-ade2-423e-b542-2164a78e82a5",
   "metadata": {
    "execution": {
     "iopub.execute_input": "2025-10-16T03:01:00.653211Z",
     "iopub.status.busy": "2025-10-16T03:01:00.652896Z",
     "iopub.status.idle": "2025-10-16T03:01:08.976067Z",
     "shell.execute_reply": "2025-10-16T03:01:08.975180Z",
     "shell.execute_reply.started": "2025-10-16T03:01:00.653181Z"
    }
   },
   "outputs": [
    {
     "name": "stdout",
     "output_type": "stream",
     "text": [
      "Requirement already satisfied: opencv-python in c:\\users\\ianpl\\dropbox\\collections\\projects\\relevant-smbc\\.venv\\lib\\site-packages (4.12.0.88)\n",
      "Requirement already satisfied: numpy<2.3.0,>=2 in c:\\users\\ianpl\\dropbox\\collections\\projects\\relevant-smbc\\.venv\\lib\\site-packages (from opencv-python) (2.2.6)\n",
      "Note: you may need to restart the kernel to use updated packages.\n",
      "Collecting matplotlib\n",
      "  Downloading matplotlib-3.10.7-cp313-cp313-win_amd64.whl.metadata (11 kB)\n",
      "Collecting contourpy>=1.0.1 (from matplotlib)\n",
      "  Downloading contourpy-1.3.3-cp313-cp313-win_amd64.whl.metadata (5.5 kB)\n",
      "Collecting cycler>=0.10 (from matplotlib)\n",
      "  Downloading cycler-0.12.1-py3-none-any.whl.metadata (3.8 kB)\n",
      "Collecting fonttools>=4.22.0 (from matplotlib)\n",
      "  Downloading fonttools-4.60.1-cp313-cp313-win_amd64.whl.metadata (114 kB)\n",
      "Collecting kiwisolver>=1.3.1 (from matplotlib)\n",
      "  Downloading kiwisolver-1.4.9-cp313-cp313-win_amd64.whl.metadata (6.4 kB)\n",
      "Requirement already satisfied: numpy>=1.23 in c:\\users\\ianpl\\dropbox\\collections\\projects\\relevant-smbc\\.venv\\lib\\site-packages (from matplotlib) (2.2.6)\n",
      "Requirement already satisfied: packaging>=20.0 in c:\\users\\ianpl\\dropbox\\collections\\projects\\relevant-smbc\\.venv\\lib\\site-packages (from matplotlib) (25.0)\n",
      "Collecting pillow>=8 (from matplotlib)\n",
      "  Downloading pillow-12.0.0-cp313-cp313-win_amd64.whl.metadata (9.0 kB)\n",
      "Collecting pyparsing>=3 (from matplotlib)\n",
      "  Downloading pyparsing-3.2.5-py3-none-any.whl.metadata (5.0 kB)\n",
      "Requirement already satisfied: python-dateutil>=2.7 in c:\\users\\ianpl\\dropbox\\collections\\projects\\relevant-smbc\\.venv\\lib\\site-packages (from matplotlib) (2.9.0.post0)\n",
      "Requirement already satisfied: six>=1.5 in c:\\users\\ianpl\\dropbox\\collections\\projects\\relevant-smbc\\.venv\\lib\\site-packages (from python-dateutil>=2.7->matplotlib) (1.17.0)\n",
      "Downloading matplotlib-3.10.7-cp313-cp313-win_amd64.whl (8.1 MB)\n",
      "   ---------------------------------------- 0.0/8.1 MB ? eta -:--:--\n",
      "   -------------------------------------- - 7.9/8.1 MB 41.8 MB/s eta 0:00:01\n",
      "   ---------------------------------------- 8.1/8.1 MB 39.9 MB/s  0:00:00\n",
      "Downloading contourpy-1.3.3-cp313-cp313-win_amd64.whl (226 kB)\n",
      "Downloading cycler-0.12.1-py3-none-any.whl (8.3 kB)\n",
      "Downloading fonttools-4.60.1-cp313-cp313-win_amd64.whl (2.3 MB)\n",
      "   ---------------------------------------- 0.0/2.3 MB ? eta -:--:--\n",
      "   ---------------------------------------- 2.3/2.3 MB 40.3 MB/s  0:00:00\n",
      "Downloading kiwisolver-1.4.9-cp313-cp313-win_amd64.whl (73 kB)\n",
      "Downloading pillow-12.0.0-cp313-cp313-win_amd64.whl (7.0 MB)\n",
      "   ---------------------------------------- 0.0/7.0 MB ? eta -:--:--\n",
      "   ---------------------------------------- 7.0/7.0 MB 41.4 MB/s  0:00:00\n",
      "Downloading pyparsing-3.2.5-py3-none-any.whl (113 kB)\n",
      "Installing collected packages: pyparsing, pillow, kiwisolver, fonttools, cycler, contourpy, matplotlib\n",
      "\n",
      "   ----- ---------------------------------- 1/7 [pillow]\n",
      "   ----- ---------------------------------- 1/7 [pillow]\n",
      "   ----------------- ---------------------- 3/7 [fonttools]\n",
      "   ----------------- ---------------------- 3/7 [fonttools]\n",
      "   ----------------- ---------------------- 3/7 [fonttools]\n",
      "   ----------------- ---------------------- 3/7 [fonttools]\n",
      "   ----------------- ---------------------- 3/7 [fonttools]\n",
      "   ----------------- ---------------------- 3/7 [fonttools]\n",
      "   ----------------- ---------------------- 3/7 [fonttools]\n",
      "   ---------------------------- ----------- 5/7 [contourpy]\n",
      "   ---------------------------------- ----- 6/7 [matplotlib]\n",
      "   ---------------------------------- ----- 6/7 [matplotlib]\n",
      "   ---------------------------------- ----- 6/7 [matplotlib]\n",
      "   ---------------------------------- ----- 6/7 [matplotlib]\n",
      "   ---------------------------------- ----- 6/7 [matplotlib]\n",
      "   ---------------------------------- ----- 6/7 [matplotlib]\n",
      "   ---------------------------------- ----- 6/7 [matplotlib]\n",
      "   ---------------------------------- ----- 6/7 [matplotlib]\n",
      "   ---------------------------------- ----- 6/7 [matplotlib]\n",
      "   ---------------------------------- ----- 6/7 [matplotlib]\n",
      "   ---------------------------------------- 7/7 [matplotlib]\n",
      "\n",
      "Successfully installed contourpy-1.3.3 cycler-0.12.1 fonttools-4.60.1 kiwisolver-1.4.9 matplotlib-3.10.7 pillow-12.0.0 pyparsing-3.2.5\n",
      "Note: you may need to restart the kernel to use updated packages.\n"
     ]
    }
   ],
   "source": [
    "%pip install opencv-python\n",
    "%pip install matplotlib"
   ]
  },
  {
   "cell_type": "code",
   "execution_count": 13,
   "id": "9b1d69f4-570a-4506-899c-29264c03db66",
   "metadata": {
    "execution": {
     "iopub.execute_input": "2025-10-16T03:01:24.747327Z",
     "iopub.status.busy": "2025-10-16T03:01:24.746951Z",
     "iopub.status.idle": "2025-10-16T03:01:25.555049Z",
     "shell.execute_reply": "2025-10-16T03:01:25.554266Z",
     "shell.execute_reply.started": "2025-10-16T03:01:24.747287Z"
    }
   },
   "outputs": [],
   "source": [
    "# imports\n",
    "import cv2\n",
    "from pathlib import Path\n",
    "import matplotlib.pyplot as plt"
   ]
  },
  {
   "cell_type": "code",
   "execution_count": 15,
   "id": "953c74cb-345c-46e0-b57d-eb32577ebc5b",
   "metadata": {
    "execution": {
     "iopub.execute_input": "2025-10-16T03:21:35.824045Z",
     "iopub.status.busy": "2025-10-16T03:21:35.823754Z",
     "iopub.status.idle": "2025-10-16T03:21:36.361541Z",
     "shell.execute_reply": "2025-10-16T03:21:36.360641Z",
     "shell.execute_reply.started": "2025-10-16T03:21:35.824023Z"
    }
   },
   "outputs": [],
   "source": [
    "def split_comic_panels(comic_path, output_path):\n",
    "    image = cv2.imread(Path(\"smbc-beautiful-4.png\"))\n",
    "    gray = cv2.cvtColor(image, cv2.COLOR_BGR2GRAY)\n",
    "    \n",
    "    _, thresh = cv2.threshold(gray, 240, 255, cv2.THRESH_BINARY_INV)\n",
    "    \n",
    "    contours, _ = cv2.findContours(thresh, cv2.RETR_EXTERNAL, cv2.CHAIN_APPROX_SIMPLE)\n",
    "    \n",
    "    bounding_rects = []\n",
    "    panels = []\n",
    "    for contour in contours:\n",
    "        if cv2.contourArea(contour) > 1000:\n",
    "            x, y, w, h = cv2.boundingRect(contour)\n",
    "            bounding_rects.append((x, y, w, h))\n",
    "    \n",
    "    bounding_rects.sort(key=lambda x: x[0]//10)\n",
    "    bounding_rects.sort(key=lambda x: x[1]//10)\n",
    "    \n",
    "    for (x, y, w, h) in bounding_rects:\n",
    "        panel = image[y:y+h, x:x+w]\n",
    "        panels.append(panel)\n",
    "        cv2.imwrite(Path(f\"{output_path}/{len(panels)-1}.png\"), panel)\n",
    "\n",
    "\n",
    "split_comic_panels(\"./smbc-beautiful-4.png\", \"./temp-comic-panels/\")"
   ]
  },
  {
   "cell_type": "code",
   "execution_count": null,
   "id": "1f2f3b1d-9bba-4c14-bb8c-f98b97342fb2",
   "metadata": {},
   "outputs": [],
   "source": []
  }
 ],
 "metadata": {
  "kernelspec": {
   "display_name": "Python 3 (ipykernel)",
   "language": "python",
   "name": "python3"
  },
  "language_info": {
   "codemirror_mode": {
    "name": "ipython",
    "version": 3
   },
   "file_extension": ".py",
   "mimetype": "text/x-python",
   "name": "python",
   "nbconvert_exporter": "python",
   "pygments_lexer": "ipython3",
   "version": "3.13.7"
  }
 },
 "nbformat": 4,
 "nbformat_minor": 5
}
